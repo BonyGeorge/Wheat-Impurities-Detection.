{
 "cells": [
  {
   "cell_type": "code",
   "execution_count": 2,
   "id": "bcfb0a1c",
   "metadata": {
    "scrolled": true
   },
   "outputs": [
    {
     "name": "stdout",
     "output_type": "stream",
     "text": [
      "G:/D/Wheat-Impurities-Detection/dataset/test\\Healthy Wheat\\03ad2a35c_jpg.rf.0a822087a149a463394ba53f7a0d1d4c.jpg\n"
     ]
    },
    {
     "data": {
      "text/html": [],
      "text/plain": [
       "<IPython.core.display.HTML object>"
      ]
     },
     "metadata": {},
     "output_type": "display_data"
    },
    {
     "name": "stdout",
     "output_type": "stream",
     "text": [
      "Predicted:  Healthy Wheat\n",
      "\n",
      "\n",
      "G:/D/Wheat-Impurities-Detection/dataset/test\\Healthy Wheat\\0a029eead_jpg.rf.7334cef7e5cc92dd5dc521287b604c49.jpg\n"
     ]
    },
    {
     "data": {
      "text/html": [],
      "text/plain": [
       "<IPython.core.display.HTML object>"
      ]
     },
     "metadata": {},
     "output_type": "display_data"
    },
    {
     "name": "stdout",
     "output_type": "stream",
     "text": [
      "Predicted:  Healthy Wheat\n",
      "\n",
      "\n",
      "G:/D/Wheat-Impurities-Detection/dataset/test\\Healthy Wheat\\0b47876ec_jpg.rf.3af82b0562da2708eebaab910f91f592.jpg\n"
     ]
    },
    {
     "data": {
      "text/html": [],
      "text/plain": [
       "<IPython.core.display.HTML object>"
      ]
     },
     "metadata": {},
     "output_type": "display_data"
    },
    {
     "name": "stdout",
     "output_type": "stream",
     "text": [
      "Predicted:  Healthy Wheat\n",
      "\n",
      "\n",
      "G:/D/Wheat-Impurities-Detection/dataset/test\\Healthy Wheat\\0b9624bd4_jpg.rf.33da4feec90472238507ad331b62f7e7.jpg\n"
     ]
    },
    {
     "data": {
      "text/html": [],
      "text/plain": [
       "<IPython.core.display.HTML object>"
      ]
     },
     "metadata": {},
     "output_type": "display_data"
    },
    {
     "name": "stdout",
     "output_type": "stream",
     "text": [
      "Predicted:  Healthy Wheat\n",
      "\n",
      "\n",
      "G:/D/Wheat-Impurities-Detection/dataset/test\\Healthy Wheat\\0d7268752_jpg.rf.f099e30c9fb73872f5ec1f9e754bf750.jpg\n"
     ]
    },
    {
     "data": {
      "text/html": [],
      "text/plain": [
       "<IPython.core.display.HTML object>"
      ]
     },
     "metadata": {},
     "output_type": "display_data"
    },
    {
     "name": "stdout",
     "output_type": "stream",
     "text": [
      "Predicted:  Healthy Wheat\n",
      "\n",
      "\n",
      "G:/D/Wheat-Impurities-Detection/dataset/test\\Healthy Wheat\\0e0809a3d_jpg.rf.7779619dd676ba62921a16094ae32ab9.jpg\n"
     ]
    },
    {
     "data": {
      "text/html": [],
      "text/plain": [
       "<IPython.core.display.HTML object>"
      ]
     },
     "metadata": {},
     "output_type": "display_data"
    },
    {
     "name": "stdout",
     "output_type": "stream",
     "text": [
      "Predicted:  Healthy Wheat\n",
      "\n",
      "\n",
      "G:/D/Wheat-Impurities-Detection/dataset/test\\Healthy Wheat\\0e0a0483e_jpg.rf.4890c87cea840e4744a5fbb2b2d195ca.jpg\n"
     ]
    },
    {
     "data": {
      "text/html": [],
      "text/plain": [
       "<IPython.core.display.HTML object>"
      ]
     },
     "metadata": {},
     "output_type": "display_data"
    },
    {
     "name": "stdout",
     "output_type": "stream",
     "text": [
      "Predicted:  Healthy Wheat\n",
      "\n",
      "\n",
      "G:/D/Wheat-Impurities-Detection/dataset/test\\Healthy Wheat\\0eab1baab_jpg.rf.4d010d96e549f434e1ea7267baa8316d.jpg\n"
     ]
    },
    {
     "data": {
      "text/html": [],
      "text/plain": [
       "<IPython.core.display.HTML object>"
      ]
     },
     "metadata": {},
     "output_type": "display_data"
    },
    {
     "name": "stdout",
     "output_type": "stream",
     "text": [
      "Predicted:  Healthy Wheat\n",
      "\n",
      "\n",
      "G:/D/Wheat-Impurities-Detection/dataset/test\\Healthy Wheat\\0ebac9a23_jpg.rf.8837ea08135b1a72e36c03314f70d5a2.jpg\n"
     ]
    },
    {
     "data": {
      "text/html": [],
      "text/plain": [
       "<IPython.core.display.HTML object>"
      ]
     },
     "metadata": {},
     "output_type": "display_data"
    },
    {
     "name": "stdout",
     "output_type": "stream",
     "text": [
      "Predicted:  Healthy Wheat\n",
      "\n",
      "\n",
      "G:/D/Wheat-Impurities-Detection/dataset/test\\Healthy Wheat\\0f4911203_jpg.rf.1bec588b84e1f6e1fb2724425df63835.jpg\n"
     ]
    },
    {
     "data": {
      "text/html": [],
      "text/plain": [
       "<IPython.core.display.HTML object>"
      ]
     },
     "metadata": {},
     "output_type": "display_data"
    },
    {
     "name": "stdout",
     "output_type": "stream",
     "text": [
      "Predicted:  Healthy Wheat\n",
      "\n",
      "\n",
      "G:/D/Wheat-Impurities-Detection/dataset/test\\Healthy Wheat\\1ecc491e7_jpg.rf.afb8f1ecf29191e298a1042a33e936a1.jpg\n"
     ]
    },
    {
     "data": {
      "text/html": [],
      "text/plain": [
       "<IPython.core.display.HTML object>"
      ]
     },
     "metadata": {},
     "output_type": "display_data"
    },
    {
     "name": "stdout",
     "output_type": "stream",
     "text": [
      "Predicted:  Healthy Wheat\n",
      "\n",
      "\n",
      "G:/D/Wheat-Impurities-Detection/dataset/test\\Healthy Wheat\\1f7600e2c_jpg.rf.5c2814103ed652a1f517fbb484d85236.jpg\n"
     ]
    },
    {
     "data": {
      "text/html": [],
      "text/plain": [
       "<IPython.core.display.HTML object>"
      ]
     },
     "metadata": {},
     "output_type": "display_data"
    },
    {
     "name": "stdout",
     "output_type": "stream",
     "text": [
      "Predicted:  Healthy Wheat\n",
      "\n",
      "\n",
      "G:/D/Wheat-Impurities-Detection/dataset/test\\Healthy Wheat\\1f9a8abcd_jpg.rf.3d344cd4090bd01c737b712932b92630.jpg\n"
     ]
    },
    {
     "data": {
      "text/html": [],
      "text/plain": [
       "<IPython.core.display.HTML object>"
      ]
     },
     "metadata": {},
     "output_type": "display_data"
    },
    {
     "name": "stdout",
     "output_type": "stream",
     "text": [
      "Predicted:  Healthy Wheat\n",
      "\n",
      "\n",
      "G:/D/Wheat-Impurities-Detection/dataset/test\\Healthy Wheat\\2cc75e9f5_jpg.rf.8d85e98d3e3c1243d91d93edf18bfefc.jpg\n"
     ]
    },
    {
     "data": {
      "text/html": [],
      "text/plain": [
       "<IPython.core.display.HTML object>"
      ]
     },
     "metadata": {},
     "output_type": "display_data"
    },
    {
     "name": "stdout",
     "output_type": "stream",
     "text": [
      "Predicted:  Healthy Wheat\n",
      "\n",
      "\n",
      "G:/D/Wheat-Impurities-Detection/dataset/test\\Healthy Wheat\\2d635716b_jpg.rf.643dab0cd3004244015f7cfbe8888e46.jpg\n"
     ]
    },
    {
     "data": {
      "text/html": [],
      "text/plain": [
       "<IPython.core.display.HTML object>"
      ]
     },
     "metadata": {},
     "output_type": "display_data"
    },
    {
     "name": "stdout",
     "output_type": "stream",
     "text": [
      "Predicted:  Healthy Wheat\n",
      "\n",
      "\n",
      "G:/D/Wheat-Impurities-Detection/dataset/test\\Healthy Wheat\\2dc5dd23d_jpg.rf.ecacb9a4469ad69fa401af454272399e.jpg\n"
     ]
    },
    {
     "data": {
      "text/html": [],
      "text/plain": [
       "<IPython.core.display.HTML object>"
      ]
     },
     "metadata": {},
     "output_type": "display_data"
    },
    {
     "name": "stdout",
     "output_type": "stream",
     "text": [
      "Predicted:  Healthy Wheat\n",
      "\n",
      "\n",
      "G:/D/Wheat-Impurities-Detection/dataset/test\\Healthy Wheat\\2de7cc0c9_jpg.rf.9082b4bae5f14ab99cb15d4e1e1af6cb.jpg\n"
     ]
    },
    {
     "data": {
      "text/html": [],
      "text/plain": [
       "<IPython.core.display.HTML object>"
      ]
     },
     "metadata": {},
     "output_type": "display_data"
    },
    {
     "name": "stdout",
     "output_type": "stream",
     "text": [
      "Predicted:  Healthy Wheat\n",
      "\n",
      "\n",
      "G:/D/Wheat-Impurities-Detection/dataset/test\\Healthy Wheat\\3b4627945_jpg.rf.3708f98886290ff90ff631773e972cce.jpg\n"
     ]
    },
    {
     "data": {
      "text/html": [],
      "text/plain": [
       "<IPython.core.display.HTML object>"
      ]
     },
     "metadata": {},
     "output_type": "display_data"
    },
    {
     "name": "stdout",
     "output_type": "stream",
     "text": [
      "Predicted:  Healthy Wheat\n",
      "\n",
      "\n",
      "G:/D/Wheat-Impurities-Detection/dataset/test\\Healthy Wheat\\3c2b5bd45_jpg.rf.116754d9cc74ea76671540dcb1bc2d8c.jpg\n"
     ]
    },
    {
     "data": {
      "text/html": [],
      "text/plain": [
       "<IPython.core.display.HTML object>"
      ]
     },
     "metadata": {},
     "output_type": "display_data"
    },
    {
     "name": "stdout",
     "output_type": "stream",
     "text": [
      "Predicted:  Healthy Wheat\n",
      "\n",
      "\n",
      "G:/D/Wheat-Impurities-Detection/dataset/test\\Healthy Wheat\\3dd0a7c0e_jpg.rf.04a8e44ff8f319e925d07263f858a10c.jpg\n"
     ]
    },
    {
     "data": {
      "text/html": [],
      "text/plain": [
       "<IPython.core.display.HTML object>"
      ]
     },
     "metadata": {},
     "output_type": "display_data"
    },
    {
     "name": "stdout",
     "output_type": "stream",
     "text": [
      "Predicted:  Healthy Wheat\n",
      "\n",
      "\n",
      "G:/D/Wheat-Impurities-Detection/dataset/test\\Healthy Wheat\\3e5845bc4_jpg.rf.adbac249ad9830eeb8d7b784da0a30de.jpg\n"
     ]
    },
    {
     "data": {
      "text/html": [],
      "text/plain": [
       "<IPython.core.display.HTML object>"
      ]
     },
     "metadata": {},
     "output_type": "display_data"
    },
    {
     "name": "stdout",
     "output_type": "stream",
     "text": [
      "Predicted:  Healthy Wheat\n",
      "\n",
      "\n",
      "G:/D/Wheat-Impurities-Detection/dataset/test\\Healthy Wheat\\3eece2a34_jpg.rf.b97a4a74d95844ce220e23897a009b16.jpg\n"
     ]
    },
    {
     "data": {
      "text/html": [],
      "text/plain": [
       "<IPython.core.display.HTML object>"
      ]
     },
     "metadata": {},
     "output_type": "display_data"
    },
    {
     "name": "stdout",
     "output_type": "stream",
     "text": [
      "Predicted:  Healthy Wheat\n",
      "\n",
      "\n",
      "G:/D/Wheat-Impurities-Detection/dataset/test\\Healthy Wheat\\3ef86180e_jpg.rf.06da7667b285024793bf65f01ba2d0d5.jpg\n"
     ]
    },
    {
     "data": {
      "text/html": [],
      "text/plain": [
       "<IPython.core.display.HTML object>"
      ]
     },
     "metadata": {},
     "output_type": "display_data"
    },
    {
     "name": "stdout",
     "output_type": "stream",
     "text": [
      "Predicted:  Healthy Wheat\n",
      "\n",
      "\n",
      "G:/D/Wheat-Impurities-Detection/dataset/test\\Healthy Wheat\\4a44720ca_jpg.rf.680dd8477d8f7105e8e7799e6e910285.jpg\n"
     ]
    },
    {
     "data": {
      "text/html": [],
      "text/plain": [
       "<IPython.core.display.HTML object>"
      ]
     },
     "metadata": {},
     "output_type": "display_data"
    },
    {
     "name": "stdout",
     "output_type": "stream",
     "text": [
      "Predicted:  Healthy Wheat\n",
      "\n",
      "\n",
      "G:/D/Wheat-Impurities-Detection/dataset/test\\Healthy Wheat\\4a654c127_jpg.rf.100af073a83aae019dcf41bc1c7052c6.jpg\n"
     ]
    },
    {
     "data": {
      "text/html": [],
      "text/plain": [
       "<IPython.core.display.HTML object>"
      ]
     },
     "metadata": {},
     "output_type": "display_data"
    },
    {
     "name": "stdout",
     "output_type": "stream",
     "text": [
      "Predicted:  Healthy Wheat\n",
      "\n",
      "\n",
      "G:/D/Wheat-Impurities-Detection/dataset/test\\Healthy Wheat\\4ae7a034a_jpg.rf.86d54a05d0689820fdce7fd091c43215.jpg\n"
     ]
    },
    {
     "data": {
      "text/html": [],
      "text/plain": [
       "<IPython.core.display.HTML object>"
      ]
     },
     "metadata": {},
     "output_type": "display_data"
    },
    {
     "name": "stdout",
     "output_type": "stream",
     "text": [
      "Predicted:  Healthy Wheat\n",
      "\n",
      "\n",
      "G:/D/Wheat-Impurities-Detection/dataset/test\\Healthy Wheat\\4b83b6541_jpg.rf.b7f41ab0c01573cd11ce7907e1d1cc00.jpg\n"
     ]
    },
    {
     "data": {
      "text/html": [],
      "text/plain": [
       "<IPython.core.display.HTML object>"
      ]
     },
     "metadata": {},
     "output_type": "display_data"
    },
    {
     "name": "stdout",
     "output_type": "stream",
     "text": [
      "Predicted:  Healthy Wheat\n",
      "\n",
      "\n",
      "G:/D/Wheat-Impurities-Detection/dataset/test\\Leaf Rust\\0W9XLD_png.rf.ed09d07b2736a685a518257740b910e3.jpg\n"
     ]
    },
    {
     "data": {
      "text/html": [],
      "text/plain": [
       "<IPython.core.display.HTML object>"
      ]
     },
     "metadata": {},
     "output_type": "display_data"
    },
    {
     "name": "stdout",
     "output_type": "stream",
     "text": [
      "Predicted:  Leaf Rust\n",
      "\n",
      "\n",
      "G:/D/Wheat-Impurities-Detection/dataset/test\\Leaf Rust\\1UJRRG_png.rf.f9fac5796c0d7f0e2253dc7379b5fdef.jpg\n"
     ]
    },
    {
     "data": {
      "text/html": [],
      "text/plain": [
       "<IPython.core.display.HTML object>"
      ]
     },
     "metadata": {},
     "output_type": "display_data"
    },
    {
     "name": "stdout",
     "output_type": "stream",
     "text": [
      "Predicted:  Leaf Rust\n",
      "\n",
      "\n",
      "G:/D/Wheat-Impurities-Detection/dataset/test\\Leaf Rust\\2LNW3I_png.rf.742bc513f1961606fb9ac747b17edce9.jpg\n"
     ]
    },
    {
     "data": {
      "text/html": [],
      "text/plain": [
       "<IPython.core.display.HTML object>"
      ]
     },
     "metadata": {},
     "output_type": "display_data"
    },
    {
     "name": "stdout",
     "output_type": "stream",
     "text": [
      "Predicted:  Stem Rust\n",
      "\n",
      "\n",
      "G:/D/Wheat-Impurities-Detection/dataset/test\\Leaf Rust\\65XWCM_png.rf.0dc68a46673371e08bd33a697b936faf.jpg\n"
     ]
    },
    {
     "data": {
      "text/html": [],
      "text/plain": [
       "<IPython.core.display.HTML object>"
      ]
     },
     "metadata": {},
     "output_type": "display_data"
    },
    {
     "name": "stdout",
     "output_type": "stream",
     "text": [
      "Predicted:  Leaf Rust\n",
      "\n",
      "\n",
      "G:/D/Wheat-Impurities-Detection/dataset/test\\Leaf Rust\\6JRBHF_png.rf.037fa21cc097bc15ec001ff8236cedac.jpg\n"
     ]
    },
    {
     "data": {
      "text/html": [],
      "text/plain": [
       "<IPython.core.display.HTML object>"
      ]
     },
     "metadata": {},
     "output_type": "display_data"
    },
    {
     "name": "stdout",
     "output_type": "stream",
     "text": [
      "Predicted:  Leaf Rust\n",
      "\n",
      "\n",
      "G:/D/Wheat-Impurities-Detection/dataset/test\\Leaf Rust\\94FX3I_png.rf.047b4a95139c8255629e40808d27a707.jpg\n"
     ]
    },
    {
     "data": {
      "text/html": [],
      "text/plain": [
       "<IPython.core.display.HTML object>"
      ]
     },
     "metadata": {},
     "output_type": "display_data"
    },
    {
     "name": "stdout",
     "output_type": "stream",
     "text": [
      "Predicted:  Leaf Rust\n",
      "\n",
      "\n",
      "G:/D/Wheat-Impurities-Detection/dataset/test\\Leaf Rust\\BH9GXF_png.rf.711e084d926e951bb3593ca4ee4029d8.jpg\n"
     ]
    },
    {
     "data": {
      "text/html": [],
      "text/plain": [
       "<IPython.core.display.HTML object>"
      ]
     },
     "metadata": {},
     "output_type": "display_data"
    },
    {
     "name": "stdout",
     "output_type": "stream",
     "text": [
      "Predicted:  Leaf Rust\n",
      "\n",
      "\n",
      "G:/D/Wheat-Impurities-Detection/dataset/test\\Leaf Rust\\KQQQ9G_jpg.rf.a8252d87f03f1a875eaf8a4fde32f3b4.jpg\n"
     ]
    },
    {
     "data": {
      "text/html": [],
      "text/plain": [
       "<IPython.core.display.HTML object>"
      ]
     },
     "metadata": {},
     "output_type": "display_data"
    },
    {
     "name": "stdout",
     "output_type": "stream",
     "text": [
      "Predicted:  Leaf Rust\n",
      "\n",
      "\n",
      "G:/D/Wheat-Impurities-Detection/dataset/test\\Leaf Rust\\MRCH2D_jpg.rf.ada19221e5d8e888f66e10f1639dbccb.jpg\n"
     ]
    },
    {
     "data": {
      "text/html": [],
      "text/plain": [
       "<IPython.core.display.HTML object>"
      ]
     },
     "metadata": {},
     "output_type": "display_data"
    },
    {
     "name": "stdout",
     "output_type": "stream",
     "text": [
      "Predicted:  Healthy Wheat\n",
      "\n",
      "\n",
      "G:/D/Wheat-Impurities-Detection/dataset/test\\Leaf Rust\\PAO1SW_jpg.rf.611a24635176632dbc1a833a4f5bdcaf.jpg\n"
     ]
    },
    {
     "data": {
      "text/html": [],
      "text/plain": [
       "<IPython.core.display.HTML object>"
      ]
     },
     "metadata": {},
     "output_type": "display_data"
    },
    {
     "name": "stdout",
     "output_type": "stream",
     "text": [
      "Predicted:  Leaf Rust\n",
      "\n",
      "\n",
      "G:/D/Wheat-Impurities-Detection/dataset/test\\Leaf Rust\\RNZSNN_png.rf.f9a5b1fe38256377345bc72bcc20dad0.jpg\n"
     ]
    },
    {
     "data": {
      "text/html": [],
      "text/plain": [
       "<IPython.core.display.HTML object>"
      ]
     },
     "metadata": {},
     "output_type": "display_data"
    },
    {
     "name": "stdout",
     "output_type": "stream",
     "text": [
      "Predicted:  Leaf Rust\n",
      "\n",
      "\n",
      "G:/D/Wheat-Impurities-Detection/dataset/test\\Leaf Rust\\TUG4XL_jpg.rf.c0b8a4b3d8710def754bf2cf66144bad.jpg\n"
     ]
    },
    {
     "data": {
      "text/html": [],
      "text/plain": [
       "<IPython.core.display.HTML object>"
      ]
     },
     "metadata": {},
     "output_type": "display_data"
    },
    {
     "name": "stdout",
     "output_type": "stream",
     "text": [
      "Predicted:  Leaf Rust\n",
      "\n",
      "\n",
      "G:/D/Wheat-Impurities-Detection/dataset/test\\Leaf Rust\\W56FTE_png.rf.a2d623d17cc5b1efc8e5096803bd4a5d.jpg\n"
     ]
    },
    {
     "data": {
      "text/html": [],
      "text/plain": [
       "<IPython.core.display.HTML object>"
      ]
     },
     "metadata": {},
     "output_type": "display_data"
    },
    {
     "name": "stdout",
     "output_type": "stream",
     "text": [
      "Predicted:  Leaf Rust\n",
      "\n",
      "\n",
      "G:/D/Wheat-Impurities-Detection/dataset/test\\Leaf Rust\\XGQH0X_png.rf.c03bae71e198d1a92858e52541b09787.jpg\n"
     ]
    },
    {
     "data": {
      "text/html": [],
      "text/plain": [
       "<IPython.core.display.HTML object>"
      ]
     },
     "metadata": {},
     "output_type": "display_data"
    },
    {
     "name": "stdout",
     "output_type": "stream",
     "text": [
      "Predicted:  Leaf Rust\n",
      "\n",
      "\n",
      "G:/D/Wheat-Impurities-Detection/dataset/test\\Leaf Rust\\Y5F2K2_png.rf.f0c29ff62554cc37bf2eb8314f2497bd.jpg\n"
     ]
    },
    {
     "data": {
      "text/html": [],
      "text/plain": [
       "<IPython.core.display.HTML object>"
      ]
     },
     "metadata": {},
     "output_type": "display_data"
    },
    {
     "name": "stdout",
     "output_type": "stream",
     "text": [
      "Predicted:  Leaf Rust\n",
      "\n",
      "\n",
      "G:/D/Wheat-Impurities-Detection/dataset/test\\Stem Rust\\0HA9AT_jpg.rf.cab4e218bd1ac161403f74dc75cf51e3.jpg\n"
     ]
    },
    {
     "data": {
      "text/html": [],
      "text/plain": [
       "<IPython.core.display.HTML object>"
      ]
     },
     "metadata": {},
     "output_type": "display_data"
    },
    {
     "name": "stdout",
     "output_type": "stream",
     "text": [
      "Predicted:  Leaf Rust\n",
      "\n",
      "\n",
      "G:/D/Wheat-Impurities-Detection/dataset/test\\Stem Rust\\7GKM8T_jpg.rf.f4b8d3d254e24dee216c1ef5b7b8e19d.jpg\n"
     ]
    },
    {
     "data": {
      "text/html": [],
      "text/plain": [
       "<IPython.core.display.HTML object>"
      ]
     },
     "metadata": {},
     "output_type": "display_data"
    },
    {
     "name": "stdout",
     "output_type": "stream",
     "text": [
      "Predicted:  Stem Rust\n",
      "\n",
      "\n",
      "G:/D/Wheat-Impurities-Detection/dataset/test\\Stem Rust\\9C1MPX_jpg.rf.0bb894f50d98b4dda301e3d5ac109d2e.jpg\n"
     ]
    },
    {
     "data": {
      "text/html": [],
      "text/plain": [
       "<IPython.core.display.HTML object>"
      ]
     },
     "metadata": {},
     "output_type": "display_data"
    },
    {
     "name": "stdout",
     "output_type": "stream",
     "text": [
      "Predicted:  Stem Rust\n",
      "\n",
      "\n",
      "G:/D/Wheat-Impurities-Detection/dataset/test\\Stem Rust\\BLBE0Y_jpg.rf.65d71b7ad7bae6a015e726325e8b273e.jpg\n"
     ]
    },
    {
     "data": {
      "text/html": [],
      "text/plain": [
       "<IPython.core.display.HTML object>"
      ]
     },
     "metadata": {},
     "output_type": "display_data"
    },
    {
     "name": "stdout",
     "output_type": "stream",
     "text": [
      "Predicted:  Stem Rust\n",
      "\n",
      "\n",
      "G:/D/Wheat-Impurities-Detection/dataset/test\\Stem Rust\\HQF2QD_png.rf.b9f0c4861a14b3112c97f0a8e08b473a.jpg\n"
     ]
    },
    {
     "data": {
      "text/html": [],
      "text/plain": [
       "<IPython.core.display.HTML object>"
      ]
     },
     "metadata": {},
     "output_type": "display_data"
    },
    {
     "name": "stdout",
     "output_type": "stream",
     "text": [
      "Predicted:  Stem Rust\n",
      "\n",
      "\n",
      "G:/D/Wheat-Impurities-Detection/dataset/test\\Stem Rust\\KDERDV_png.rf.440f0833467fa4a3a7b06304c8b56d25.jpg\n"
     ]
    },
    {
     "data": {
      "text/html": [],
      "text/plain": [
       "<IPython.core.display.HTML object>"
      ]
     },
     "metadata": {},
     "output_type": "display_data"
    },
    {
     "name": "stdout",
     "output_type": "stream",
     "text": [
      "Predicted:  Leaf Rust\n",
      "\n",
      "\n",
      "G:/D/Wheat-Impurities-Detection/dataset/test\\Stem Rust\\MSUABZ_png.rf.3357f574ca20a87dae6a9b2705df0cdd.jpg\n"
     ]
    },
    {
     "data": {
      "text/html": [],
      "text/plain": [
       "<IPython.core.display.HTML object>"
      ]
     },
     "metadata": {},
     "output_type": "display_data"
    },
    {
     "name": "stdout",
     "output_type": "stream",
     "text": [
      "Predicted:  Wild Oat\n",
      "\n",
      "\n",
      "G:/D/Wheat-Impurities-Detection/dataset/test\\Stem Rust\\O03SHZ_png.rf.bc297d3ad398d67cd8220a3e944bd262.jpg\n"
     ]
    },
    {
     "data": {
      "text/html": [],
      "text/plain": [
       "<IPython.core.display.HTML object>"
      ]
     },
     "metadata": {},
     "output_type": "display_data"
    },
    {
     "name": "stdout",
     "output_type": "stream",
     "text": [
      "Predicted:  Stem Rust\n",
      "\n",
      "\n",
      "G:/D/Wheat-Impurities-Detection/dataset/test\\Stem Rust\\UPBU5E_png.rf.069a645ebe2d26fb57f45b0939a48fff.jpg\n"
     ]
    },
    {
     "data": {
      "text/html": [],
      "text/plain": [
       "<IPython.core.display.HTML object>"
      ]
     },
     "metadata": {},
     "output_type": "display_data"
    },
    {
     "name": "stdout",
     "output_type": "stream",
     "text": [
      "Predicted:  Leaf Rust\n",
      "\n",
      "\n",
      "G:/D/Wheat-Impurities-Detection/dataset/test\\Stem Rust\\USE5QD_png.rf.f76e7597f7634e78f897c4420deccfd8.jpg\n"
     ]
    },
    {
     "data": {
      "text/html": [],
      "text/plain": [
       "<IPython.core.display.HTML object>"
      ]
     },
     "metadata": {},
     "output_type": "display_data"
    },
    {
     "name": "stdout",
     "output_type": "stream",
     "text": [
      "Predicted:  Stem Rust\n",
      "\n",
      "\n",
      "G:/D/Wheat-Impurities-Detection/dataset/test\\Stem Rust\\Z2FBRE_jpg.rf.a22a4e2f03a7f3a2d95624430cbb7094.jpg\n"
     ]
    },
    {
     "data": {
      "text/html": [],
      "text/plain": [
       "<IPython.core.display.HTML object>"
      ]
     },
     "metadata": {},
     "output_type": "display_data"
    },
    {
     "name": "stdout",
     "output_type": "stream",
     "text": [
      "Predicted:  Stem Rust\n",
      "\n",
      "\n",
      "G:/D/Wheat-Impurities-Detection/dataset/test\\Wild Oat\\WildOat--102-_jpg.rf.23ebc463b2c5712a551c976c37e291a2.jpg\n"
     ]
    },
    {
     "data": {
      "text/html": [],
      "text/plain": [
       "<IPython.core.display.HTML object>"
      ]
     },
     "metadata": {},
     "output_type": "display_data"
    },
    {
     "name": "stdout",
     "output_type": "stream",
     "text": [
      "Predicted:  Wild Oat\n",
      "\n",
      "\n",
      "G:/D/Wheat-Impurities-Detection/dataset/test\\Wild Oat\\WildOat--112-_jpg.rf.6f0db4d25a3df2579c2e46376c7e668b.jpg\n"
     ]
    },
    {
     "data": {
      "text/html": [],
      "text/plain": [
       "<IPython.core.display.HTML object>"
      ]
     },
     "metadata": {},
     "output_type": "display_data"
    },
    {
     "name": "stdout",
     "output_type": "stream",
     "text": [
      "Predicted:  Wild Oat\n",
      "\n",
      "\n",
      "G:/D/Wheat-Impurities-Detection/dataset/test\\Wild Oat\\WildOat--125-_jpg.rf.86426d5fef897e6d36bf1683d49f43a2.jpg\n"
     ]
    },
    {
     "data": {
      "text/html": [],
      "text/plain": [
       "<IPython.core.display.HTML object>"
      ]
     },
     "metadata": {},
     "output_type": "display_data"
    },
    {
     "name": "stdout",
     "output_type": "stream",
     "text": [
      "Predicted:  Wild Oat\n",
      "\n",
      "\n",
      "G:/D/Wheat-Impurities-Detection/dataset/test\\Wild Oat\\WildOat--135-_jpg.rf.44490d97e0a3f51049bf1caddaab4013.jpg\n"
     ]
    },
    {
     "data": {
      "text/html": [],
      "text/plain": [
       "<IPython.core.display.HTML object>"
      ]
     },
     "metadata": {},
     "output_type": "display_data"
    },
    {
     "name": "stdout",
     "output_type": "stream",
     "text": [
      "Predicted:  Wild Oat\n",
      "\n",
      "\n",
      "G:/D/Wheat-Impurities-Detection/dataset/test\\Wild Oat\\WildOat--36-_png.rf.c693e3114c9fd0869bb0dfbfdf314605.jpg\n"
     ]
    },
    {
     "data": {
      "text/html": [],
      "text/plain": [
       "<IPython.core.display.HTML object>"
      ]
     },
     "metadata": {},
     "output_type": "display_data"
    },
    {
     "name": "stdout",
     "output_type": "stream",
     "text": [
      "Predicted:  Healthy Wheat\n",
      "\n",
      "\n",
      "G:/D/Wheat-Impurities-Detection/dataset/test\\Wild Oat\\WildOat--454-_png.rf.0e90ff9c10f7b173112f53f75e5af88e.jpg\n"
     ]
    },
    {
     "data": {
      "text/html": [],
      "text/plain": [
       "<IPython.core.display.HTML object>"
      ]
     },
     "metadata": {},
     "output_type": "display_data"
    },
    {
     "name": "stdout",
     "output_type": "stream",
     "text": [
      "Predicted:  Wild Oat\n",
      "\n",
      "\n",
      "G:/D/Wheat-Impurities-Detection/dataset/test\\Wild Oat\\WildOat--455-_jpg.rf.d2a41e1027d89f1059ede7fc005d61e2.jpg\n"
     ]
    },
    {
     "data": {
      "text/html": [],
      "text/plain": [
       "<IPython.core.display.HTML object>"
      ]
     },
     "metadata": {},
     "output_type": "display_data"
    },
    {
     "name": "stdout",
     "output_type": "stream",
     "text": [
      "Predicted:  Wild Oat\n",
      "\n",
      "\n",
      "G:/D/Wheat-Impurities-Detection/dataset/test\\Wild Oat\\WildOat--458-_png.rf.4761c2fbcab09eb4407480f809311a12.jpg\n"
     ]
    },
    {
     "data": {
      "text/html": [],
      "text/plain": [
       "<IPython.core.display.HTML object>"
      ]
     },
     "metadata": {},
     "output_type": "display_data"
    },
    {
     "name": "stdout",
     "output_type": "stream",
     "text": [
      "Predicted:  Wild Oat\n",
      "\n",
      "\n",
      "G:/D/Wheat-Impurities-Detection/dataset/test\\Wild Oat\\WildOat--464-_png.rf.0e8425a41cc90a4f3634e23d817d98d4.jpg\n"
     ]
    },
    {
     "data": {
      "text/html": [],
      "text/plain": [
       "<IPython.core.display.HTML object>"
      ]
     },
     "metadata": {},
     "output_type": "display_data"
    },
    {
     "name": "stdout",
     "output_type": "stream",
     "text": [
      "Predicted:  Wild Oat\n",
      "\n",
      "\n",
      "G:/D/Wheat-Impurities-Detection/dataset/test\\Wild Oat\\WildOat--470-_png.rf.e4f2b3a7e1598479c190cee74197b4e4.jpg\n"
     ]
    },
    {
     "data": {
      "text/html": [],
      "text/plain": [
       "<IPython.core.display.HTML object>"
      ]
     },
     "metadata": {},
     "output_type": "display_data"
    },
    {
     "name": "stdout",
     "output_type": "stream",
     "text": [
      "Predicted:  Healthy Wheat\n",
      "\n",
      "\n",
      "G:/D/Wheat-Impurities-Detection/dataset/test\\Wild Oat\\WildOat--471-_png.rf.c19952cfe097b6371f5b6c66261d6126.jpg\n"
     ]
    },
    {
     "data": {
      "text/html": [],
      "text/plain": [
       "<IPython.core.display.HTML object>"
      ]
     },
     "metadata": {},
     "output_type": "display_data"
    },
    {
     "name": "stdout",
     "output_type": "stream",
     "text": [
      "Predicted:  Healthy Wheat\n",
      "\n",
      "\n",
      "G:/D/Wheat-Impurities-Detection/dataset/test\\Wild Oat\\WildOat--53-_jpg.rf.3715396eb8f2e0b70b114977a7f7b18d.jpg\n"
     ]
    },
    {
     "data": {
      "text/html": [],
      "text/plain": [
       "<IPython.core.display.HTML object>"
      ]
     },
     "metadata": {},
     "output_type": "display_data"
    },
    {
     "name": "stdout",
     "output_type": "stream",
     "text": [
      "Predicted:  Wild Oat\n",
      "\n",
      "\n",
      "G:/D/Wheat-Impurities-Detection/dataset/test\\Wild Oat\\WildOat--63-_jpg.rf.89441c51d71c40b198acef8214dc02a5.jpg\n"
     ]
    },
    {
     "data": {
      "text/html": [],
      "text/plain": [
       "<IPython.core.display.HTML object>"
      ]
     },
     "metadata": {},
     "output_type": "display_data"
    },
    {
     "name": "stdout",
     "output_type": "stream",
     "text": [
      "Predicted:  Wild Oat\n",
      "\n",
      "\n",
      "G:/D/Wheat-Impurities-Detection/dataset/test\\Wild Oat\\WildOat--74-_jpg.rf.802089d3d175c8499c9f4e9d716a0c1a.jpg\n"
     ]
    },
    {
     "data": {
      "text/html": [],
      "text/plain": [
       "<IPython.core.display.HTML object>"
      ]
     },
     "metadata": {},
     "output_type": "display_data"
    },
    {
     "name": "stdout",
     "output_type": "stream",
     "text": [
      "Predicted:  Wild Oat\n",
      "\n",
      "\n",
      "G:/D/Wheat-Impurities-Detection/dataset/test\\Wild Oat\\WildOat--82-_jpg.rf.7a9d32a91903c8d3976d0ce7b3a81dd6.jpg\n"
     ]
    },
    {
     "data": {
      "text/html": [],
      "text/plain": [
       "<IPython.core.display.HTML object>"
      ]
     },
     "metadata": {},
     "output_type": "display_data"
    },
    {
     "name": "stdout",
     "output_type": "stream",
     "text": [
      "Predicted:  Wild Oat\n",
      "\n",
      "\n",
      "G:/D/Wheat-Impurities-Detection/dataset/test\\Wild Oat\\WildOat--94-_png.rf.38d568266313643623385b5ef7e059e4.jpg\n"
     ]
    },
    {
     "data": {
      "text/html": [],
      "text/plain": [
       "<IPython.core.display.HTML object>"
      ]
     },
     "metadata": {},
     "output_type": "display_data"
    },
    {
     "name": "stdout",
     "output_type": "stream",
     "text": [
      "Predicted:  Wild Oat\n",
      "\n",
      "\n",
      "G:/D/Wheat-Impurities-Detection/dataset/test\\Wild Oat\\WildOat-246-_png.rf.2a993c479e316efc1929fc180ecf6dd1.jpg\n"
     ]
    },
    {
     "data": {
      "text/html": [],
      "text/plain": [
       "<IPython.core.display.HTML object>"
      ]
     },
     "metadata": {},
     "output_type": "display_data"
    },
    {
     "name": "stdout",
     "output_type": "stream",
     "text": [
      "Predicted:  Wild Oat\n",
      "\n",
      "\n",
      "G:/D/Wheat-Impurities-Detection/dataset/test\\Wild Oat\\WildOat-251-_png.rf.ca47bd2acd4fe4ad4315910554bd0818.jpg\n"
     ]
    },
    {
     "data": {
      "text/html": [],
      "text/plain": [
       "<IPython.core.display.HTML object>"
      ]
     },
     "metadata": {},
     "output_type": "display_data"
    },
    {
     "name": "stdout",
     "output_type": "stream",
     "text": [
      "Predicted:  Wild Oat\n",
      "\n",
      "\n",
      "G:/D/Wheat-Impurities-Detection/dataset/test\\Wild Oat\\WildOat-252-_jpg.rf.a3875390485970e3e5095e8a8259ceb8.jpg\n"
     ]
    },
    {
     "data": {
      "text/html": [],
      "text/plain": [
       "<IPython.core.display.HTML object>"
      ]
     },
     "metadata": {},
     "output_type": "display_data"
    },
    {
     "name": "stdout",
     "output_type": "stream",
     "text": [
      "Predicted:  Wild Oat\n",
      "\n",
      "\n",
      "G:/D/Wheat-Impurities-Detection/dataset/test\\Wild Oat\\WildOat-262-_jpg.rf.8d14a3e84c50e79e298dc9bdd1c0483e.jpg\n"
     ]
    },
    {
     "data": {
      "text/html": [],
      "text/plain": [
       "<IPython.core.display.HTML object>"
      ]
     },
     "metadata": {},
     "output_type": "display_data"
    },
    {
     "name": "stdout",
     "output_type": "stream",
     "text": [
      "Predicted:  Wild Oat\n",
      "\n",
      "\n",
      "G:/D/Wheat-Impurities-Detection/dataset/test\\Wild Oat\\WildOat-265-_jpg.rf.6bc91f95824ac9da3c266955d5943f52.jpg\n"
     ]
    },
    {
     "data": {
      "text/html": [],
      "text/plain": [
       "<IPython.core.display.HTML object>"
      ]
     },
     "metadata": {},
     "output_type": "display_data"
    },
    {
     "name": "stdout",
     "output_type": "stream",
     "text": [
      "Predicted:  Wild Oat\n",
      "\n",
      "\n",
      "G:/D/Wheat-Impurities-Detection/dataset/test\\Wild Oat\\WildOat-268-_png.rf.f0f5ee0e953da95ce9fbc1d6fb415ccd.jpg\n"
     ]
    },
    {
     "data": {
      "text/html": [],
      "text/plain": [
       "<IPython.core.display.HTML object>"
      ]
     },
     "metadata": {},
     "output_type": "display_data"
    },
    {
     "name": "stdout",
     "output_type": "stream",
     "text": [
      "Predicted:  Wild Oat\n",
      "\n",
      "\n",
      "G:/D/Wheat-Impurities-Detection/dataset/test\\Wild Oat\\WildOat-270-_jpg.rf.46b53907a6b2ea1fffe063bb55267a12.jpg\n"
     ]
    },
    {
     "data": {
      "text/html": [],
      "text/plain": [
       "<IPython.core.display.HTML object>"
      ]
     },
     "metadata": {},
     "output_type": "display_data"
    },
    {
     "name": "stdout",
     "output_type": "stream",
     "text": [
      "Predicted:  Wild Oat\n",
      "\n",
      "\n",
      "G:/D/Wheat-Impurities-Detection/dataset/test\\Wild Oat\\WildOat-283-_jpg.rf.51c0d14f14f2fb266230e2021af66c72.jpg\n"
     ]
    },
    {
     "data": {
      "text/html": [],
      "text/plain": [
       "<IPython.core.display.HTML object>"
      ]
     },
     "metadata": {},
     "output_type": "display_data"
    },
    {
     "name": "stdout",
     "output_type": "stream",
     "text": [
      "Predicted:  Wild Oat\n",
      "\n",
      "\n",
      "G:/D/Wheat-Impurities-Detection/dataset/test\\Wild Oat\\WildOat-289-_jpg.rf.2cbae3a7420636407ca8f78da931e81a.jpg\n"
     ]
    },
    {
     "data": {
      "text/html": [],
      "text/plain": [
       "<IPython.core.display.HTML object>"
      ]
     },
     "metadata": {},
     "output_type": "display_data"
    },
    {
     "name": "stdout",
     "output_type": "stream",
     "text": [
      "Predicted:  Wild Oat\n",
      "\n",
      "\n",
      "G:/D/Wheat-Impurities-Detection/dataset/test\\Wild Oat\\WildOat-292-_jpg.rf.8083baffb29b45a38f33b397764988b6.jpg\n"
     ]
    },
    {
     "data": {
      "text/html": [],
      "text/plain": [
       "<IPython.core.display.HTML object>"
      ]
     },
     "metadata": {},
     "output_type": "display_data"
    },
    {
     "name": "stdout",
     "output_type": "stream",
     "text": [
      "Predicted:  Wild Oat\n",
      "\n",
      "\n",
      "G:/D/Wheat-Impurities-Detection/dataset/test\\Wild Oat\\WildOat-294-_png.rf.2d22c45e8f73a7f531e85ae031956097.jpg\n"
     ]
    },
    {
     "data": {
      "text/html": [],
      "text/plain": [
       "<IPython.core.display.HTML object>"
      ]
     },
     "metadata": {},
     "output_type": "display_data"
    },
    {
     "name": "stdout",
     "output_type": "stream",
     "text": [
      "Predicted:  Wild Oat\n",
      "\n",
      "\n",
      "G:/D/Wheat-Impurities-Detection/dataset/test\\Wild Oat\\WildOat-302-_jpg.rf.6430849c7a8fb629a55233255bd0e6e7.jpg\n"
     ]
    },
    {
     "data": {
      "text/html": [],
      "text/plain": [
       "<IPython.core.display.HTML object>"
      ]
     },
     "metadata": {},
     "output_type": "display_data"
    },
    {
     "name": "stdout",
     "output_type": "stream",
     "text": [
      "Predicted:  Wild Oat\n",
      "\n",
      "\n",
      "G:/D/Wheat-Impurities-Detection/dataset/test\\Wild Oat\\WildOat-311-_jpg.rf.0f204d77d2b838b56c42f3fb912859dc.jpg\n"
     ]
    },
    {
     "data": {
      "text/html": [],
      "text/plain": [
       "<IPython.core.display.HTML object>"
      ]
     },
     "metadata": {},
     "output_type": "display_data"
    },
    {
     "name": "stdout",
     "output_type": "stream",
     "text": [
      "Predicted:  Wild Oat\n",
      "\n",
      "\n",
      "G:/D/Wheat-Impurities-Detection/dataset/test\\Wild Oat\\WildOat-312-_jpg.rf.5943ba8355ab0a37fe62e96e0a8db8a7.jpg\n"
     ]
    },
    {
     "data": {
      "text/html": [],
      "text/plain": [
       "<IPython.core.display.HTML object>"
      ]
     },
     "metadata": {},
     "output_type": "display_data"
    },
    {
     "name": "stdout",
     "output_type": "stream",
     "text": [
      "Predicted:  Wild Oat\n",
      "\n",
      "\n",
      "G:/D/Wheat-Impurities-Detection/dataset/test\\Wild Oat\\WildOat-315-_jpg.rf.d62e83e4b5eb490411d867869778bb01.jpg\n"
     ]
    },
    {
     "data": {
      "text/html": [],
      "text/plain": [
       "<IPython.core.display.HTML object>"
      ]
     },
     "metadata": {},
     "output_type": "display_data"
    },
    {
     "name": "stdout",
     "output_type": "stream",
     "text": [
      "Predicted:  Wild Oat\n",
      "\n",
      "\n",
      "G:/D/Wheat-Impurities-Detection/dataset/test\\Wild Oat\\WildOat-330-_png.rf.33b94bc0ebbebf7287e8ca821259ab59.jpg\n"
     ]
    },
    {
     "data": {
      "text/html": [],
      "text/plain": [
       "<IPython.core.display.HTML object>"
      ]
     },
     "metadata": {},
     "output_type": "display_data"
    },
    {
     "name": "stdout",
     "output_type": "stream",
     "text": [
      "Predicted:  Wild Oat\n",
      "\n",
      "\n"
     ]
    }
   ],
   "source": [
    "import numpy as np\n",
    "import glob\n",
    "import cv2\n",
    "from IPython.display import Image, display\n",
    "from fastai.vision import *\n",
    "from fastai.vision.all import *\n",
    "from fastai.vision.data import *\n",
    "from PIL import Image\n",
    "from numpy import asarray\n",
    "\n",
    "\n",
    "np.random.seed(42)\n",
    "path = 'G:/D/Wheat-Impurities-Detection/dataset/'\n",
    "data = ImageDataLoaders.from_folder(path, size=224, num_workers=4)\n",
    "\n",
    "learn = cnn_learner(data, models.resnet34, metrics=accuracy)\n",
    "learn.load('G:/D/Wheat-Impurities-Detection/Wheat-Impurities-Detection/Python/ResNet 34/best_resnet34', strict=False)\n",
    "\n",
    "model = learn.model\n",
    "model = model.cpu()\n",
    "#torch.save(model.state_dict(), \"/content/resnet34_model.pth\")\n",
    "\n",
    "for imageName in glob.glob('G:/D/Wheat-Impurities-Detection/dataset/test/*/*.jpg'):\n",
    "    print(imageName)\n",
    "    image = Image.open(imageName)\n",
    "    data = asarray(image)\n",
    "    \n",
    "    prediction = learn.predict(data)\n",
    "    print(\"Predicted: \", prediction[0])\n",
    "    #display(Image(filename=imageName))\n",
    "    print(\"\\n\")"
   ]
  },
  {
   "cell_type": "code",
   "execution_count": null,
   "id": "9c39a25f",
   "metadata": {},
   "outputs": [],
   "source": []
  }
 ],
 "metadata": {
  "kernelspec": {
   "display_name": "Python 3",
   "language": "python",
   "name": "python3"
  },
  "language_info": {
   "codemirror_mode": {
    "name": "ipython",
    "version": 3
   },
   "file_extension": ".py",
   "mimetype": "text/x-python",
   "name": "python",
   "nbconvert_exporter": "python",
   "pygments_lexer": "ipython3",
   "version": "3.8.8"
  }
 },
 "nbformat": 4,
 "nbformat_minor": 5
}
